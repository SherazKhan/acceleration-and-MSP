{
 "cells": [
  {
   "cell_type": "code",
   "execution_count": 16,
   "metadata": {
    "collapsed": false,
    "scrolled": true
   },
   "outputs": [],
   "source": [
    "import pandas as pd"
   ]
  },
  {
   "cell_type": "code",
   "execution_count": 17,
   "metadata": {
    "collapsed": false
   },
   "outputs": [],
   "source": [
    "import numpy as np\n",
    "from dateutil import parser\n",
    "from scipy.fftpack import fft\n",
    "import matplotlib.pyplot as plt\n",
    "from scipy.signal import butter, lfilter\n",
    "from scipy import signal"
   ]
  },
  {
   "cell_type": "code",
   "execution_count": 18,
   "metadata": {
    "collapsed": false
   },
   "outputs": [],
   "source": [
    "path = '/Users/Susie/Documents/PT17.0105/PT17.0105_01.csv'\n",
    "epoch = '2s' #e.g: 10s,20s\n",
    "highcut = 4\n",
    "lowcut = 0.2\n",
    "fs = 62.5\n",
    "order = 5"
   ]
  },
  {
   "cell_type": "code",
   "execution_count": 19,
   "metadata": {
    "collapsed": false
   },
   "outputs": [],
   "source": [
    "def loadData():\n",
    "    sensorData = pd.read_csv(path,low_memory=True)\n",
    "    sensorData['time1'] = pd.to_datetime(sensorData['time'], unit='ms')\n",
    "    sensorData['time1'] = sensorData['time1'].apply(lambda x: x.strftime('%H:%M:%S'))\n",
    "    return sensorData"
   ]
  },
  {
   "cell_type": "code",
   "execution_count": 91,
   "metadata": {
    "collapsed": false
   },
   "outputs": [],
   "source": [
    "sensor_data = loadData()\n",
    "sensor_data.head(5)\n",
    "sensor_data = sensor_data[np.isfinite(sensor_data['accelerometerX'])]\n",
    "sensor_data = sensor_data[np.isfinite(sensor_data['accelerometerY'])]\n",
    "sensor_data = sensor_data[np.isfinite(sensor_data['accelerometerZ'])]\n",
    "sensor_data = sensor_data[np.isfinite(sensor_data['time'])]"
   ]
  },
  {
   "cell_type": "markdown",
   "metadata": {},
   "source": [
    "## high pass filter, low pass filter and band pass filter"
   ]
  },
  {
   "cell_type": "code",
   "execution_count": 93,
   "metadata": {
    "collapsed": true
   },
   "outputs": [],
   "source": [
    "# High Pass filter configuration\n",
    "def highpass(high, fs, order):\n",
    "    nyq = 0.5 * fs\n",
    "    cutoff = high / nyq\n",
    "    b, a = butter(order, cutoff, btype='high', analog=False)\n",
    "    return b, a\n",
    "\n",
    "# Function to perform high pass filtering\n",
    "def highpass_filter(data, highcut, fs, order):\n",
    "    b, a = highpass(highcut, fs, order=order)\n",
    "    y = lfilter(b, a, data)\n",
    "    return y"
   ]
  },
  {
   "cell_type": "code",
   "execution_count": 94,
   "metadata": {
    "collapsed": true
   },
   "outputs": [],
   "source": [
    "# Low Pass filter configuration\n",
    "\n",
    "def lowpass(low, fs, order):\n",
    "    nyq = 0.5 * fs\n",
    "    cutoff = low / nyq\n",
    "    b, a = butter(order, cutoff, btype='low', analog=False)\n",
    "    return b, a\n",
    "# Function to perform low pass filtering\n",
    "\n",
    "def lowpass_filter(data, lowcut, fs, order):\n",
    "    b, a = lowpass(lowcut, fs, order=order)\n",
    "    y = lfilter(b, a, data)\n",
    "    return y"
   ]
  },
  {
   "cell_type": "code",
   "execution_count": 95,
   "metadata": {
    "collapsed": true
   },
   "outputs": [],
   "source": [
    "def BandPass(lowcut,highcut,fs,order):\n",
    "    nyq = fs*0.5\n",
    "    low = lowcut/nyq\n",
    "    high = highcut/nyq\n",
    "    b,a = butter(order,[low,high],btype='bandpass')\n",
    "    return b,a\n",
    "\n",
    "def BandPassFilter(data,lowcut,highcut,fs,order):\n",
    "    b,a = BandPass(lowcut,highcut,fs,order)\n",
    "    y = lfilter(b,a,data)\n",
    "    return y"
   ]
  },
  {
   "cell_type": "code",
   "execution_count": 101,
   "metadata": {
    "collapsed": true
   },
   "outputs": [],
   "source": [
    "def groupData(sensorData):\n",
    "    sensorData = sensorData.set_index(sensorData['time1'].map(parser.parse))\n",
    "    grouped = sensorData.groupby(pd.TimeGrouper(epoch))\n",
    "    return grouped"
   ]
  },
  {
   "cell_type": "code",
   "execution_count": 103,
   "metadata": {
    "collapsed": false
   },
   "outputs": [],
   "source": [
    "def getMSP(inputdata):\n",
    "    ax = BandPassFilter(data = inputdata, lowcut= lowcut,highcut = highcut, fs = fs, order = order)\n",
    "    fax,AX = signal.periodogram(ax,fs=fs,scaling='density',return_onesided=True)\n",
    "    \n",
    "    periodogram_ax = pd.DataFrame()\n",
    "    periodogram_ax['freq'] = fax\n",
    "    periodogram_ax['spec'] = AX\n",
    "    periodogram_ax = periodogram_ax[(periodogram_ax['freq']>=0.2)&(periodogram_ax['freq']<=4)]\n",
    "    \n",
    "    wholesp = periodogram_ax['spec'].sum()\n",
    "    n = periodogram_ax.shape[0]\n",
    "    return wholesp,n"
   ]
  },
  {
   "cell_type": "code",
   "execution_count": 102,
   "metadata": {
    "collapsed": false
   },
   "outputs": [],
   "source": [
    "grouped = groupData(sensor_data)"
   ]
  },
  {
   "cell_type": "code",
   "execution_count": 118,
   "metadata": {
    "collapsed": false
   },
   "outputs": [],
   "source": [
    "SumspX = grouped['accelerometerX'].apply(lambda x: getMSP(x))\n",
    "SumspY = grouped['accelerometerY'].apply(lambda x: getMSP(x))\n",
    "SumspZ = grouped['accelerometerZ'].apply(lambda x: getMSP(x))"
   ]
  },
  {
   "cell_type": "code",
   "execution_count": 119,
   "metadata": {
    "collapsed": false
   },
   "outputs": [],
   "source": [
    "SSPX = SumspX.tolist()\n",
    "SSPY = SumspY.tolist()\n",
    "SSPZ = SumspZ.tolist()\n",
    "frame_x = pd.DataFrame(SSPX, columns=['sumX', 'number'])\n",
    "frame_y = pd.DataFrame(SSPY, columns=['sumY', 'number'])\n",
    "frame_z = pd.DataFrame(SSPZ, columns=['sumZ', 'number'])"
   ]
  },
  {
   "cell_type": "code",
   "execution_count": 120,
   "metadata": {
    "collapsed": false
   },
   "outputs": [
    {
     "data": {
      "text/html": [
       "<div>\n",
       "<table border=\"1\" class=\"dataframe\">\n",
       "  <thead>\n",
       "    <tr style=\"text-align: right;\">\n",
       "      <th></th>\n",
       "      <th>sum</th>\n",
       "      <th>number</th>\n",
       "      <th>MSP</th>\n",
       "    </tr>\n",
       "  </thead>\n",
       "  <tbody>\n",
       "    <tr>\n",
       "      <th>0</th>\n",
       "      <td>0.156728</td>\n",
       "      <td>21</td>\n",
       "      <td>0.007463</td>\n",
       "    </tr>\n",
       "    <tr>\n",
       "      <th>1</th>\n",
       "      <td>0.158866</td>\n",
       "      <td>24</td>\n",
       "      <td>0.006619</td>\n",
       "    </tr>\n",
       "    <tr>\n",
       "      <th>2</th>\n",
       "      <td>0.158741</td>\n",
       "      <td>24</td>\n",
       "      <td>0.006614</td>\n",
       "    </tr>\n",
       "    <tr>\n",
       "      <th>3</th>\n",
       "      <td>0.158816</td>\n",
       "      <td>24</td>\n",
       "      <td>0.006617</td>\n",
       "    </tr>\n",
       "    <tr>\n",
       "      <th>4</th>\n",
       "      <td>0.158989</td>\n",
       "      <td>24</td>\n",
       "      <td>0.006625</td>\n",
       "    </tr>\n",
       "  </tbody>\n",
       "</table>\n",
       "</div>"
      ],
      "text/plain": [
       "        sum  number       MSP\n",
       "0  0.156728      21  0.007463\n",
       "1  0.158866      24  0.006619\n",
       "2  0.158741      24  0.006614\n",
       "3  0.158816      24  0.006617\n",
       "4  0.158989      24  0.006625"
      ]
     },
     "execution_count": 120,
     "metadata": {},
     "output_type": "execute_result"
    }
   ],
   "source": [
    "frame = pd.DataFrame()\n",
    "frame['sum'] = frame_x['sumX']+frame_y['sumY']+frame_z['sumZ']\n",
    "frame['number'] = frame_x['number']+frame_y['number']+frame_z['number']\n",
    "frame['MSP'] = frame['sum'] / frame['number']\n",
    "frame.head(5)"
   ]
  },
  {
   "cell_type": "code",
   "execution_count": null,
   "metadata": {
    "collapsed": true
   },
   "outputs": [],
   "source": []
  }
 ],
 "metadata": {
  "anaconda-cloud": {},
  "kernelspec": {
   "display_name": "Python 2",
   "language": "python",
   "name": "python2"
  },
  "language_info": {
   "codemirror_mode": {
    "name": "ipython",
    "version": 2
   },
   "file_extension": ".py",
   "mimetype": "text/x-python",
   "name": "python",
   "nbconvert_exporter": "python",
   "pygments_lexer": "ipython2",
   "version": "2.7.12"
  }
 },
 "nbformat": 4,
 "nbformat_minor": 0
}
